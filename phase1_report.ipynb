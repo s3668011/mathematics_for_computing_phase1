{
 "cells": [
  {
   "cell_type": "markdown",
   "id": "07f0e23b",
   "metadata": {},
   "source": [
    "# Predicting Diamond Prices\n",
    "## Phase 1: Data Preparation & Visualisation"
   ]
  },
  {
   "cell_type": "markdown",
   "id": "32f89a66",
   "metadata": {},
   "source": [
    "#### Group Name:\n",
    "\n",
    "#### Name(s) & ID(s) of Group Members:\n",
    "\n",
    "#### "
   ]
  },
  {
   "cell_type": "markdown",
   "id": "86f646f4",
   "metadata": {},
   "source": [
    "## Table of contents"
   ]
  },
  {
   "cell_type": "markdown",
   "id": "2604aee4",
   "metadata": {},
   "source": [
    "* [Introduction](#itr) \n",
    "  + [Dataset Source](#Dataset-Source)\n",
    "  + [Dataset Details](#Dataset-Details)\n",
    "  + [Dataset Features](#Dataset-Features)\n",
    "  + [Target Feature](#Target-Feature)\n",
    "* [Goals and Objectives](#Goals-and-Objectives)\n",
    "* [Data Cleaning and Preprocessing](#Data-Cleaning-and-Preprocessing)\n",
    "* [Data Exploration and Visualisation](#Data-Exploration-and-Visualisation)\n",
    "* [Summary and Conclusion](#Summary-and-Conclusion)\n",
    "* [References](#References)\n",
    "\n"
   ]
  },
  {
   "cell_type": "markdown",
   "id": "67626d5f",
   "metadata": {},
   "source": [
    "## (Task 1) Introduction <a id='itr'></a> "
   ]
  },
  {
   "cell_type": "markdown",
   "id": "c29c27ec",
   "metadata": {},
   "source": [
    "### (Task 1.1) Dataset Source<a id='Dataset-Source'></a>"
   ]
  },
  {
   "cell_type": "markdown",
   "id": "b70be132",
   "metadata": {},
   "source": [
    "Sample Source"
   ]
  },
  {
   "cell_type": "markdown",
   "id": "6a8a68d3",
   "metadata": {},
   "source": [
    "\n",
    "\n",
    "### Dataset Details"
   ]
  },
  {
   "cell_type": "markdown",
   "id": "2b7ff05f",
   "metadata": {},
   "source": [
    "The dataset is about the 'Prices of Diamonds' and contains information about various attributes such as their cut, carat, colour, clarity, depth, etc. These features seem to be sufficient for an attempt for predictive modeling of Diamond prices as a regression problem.\n",
    "\n",
    "This dataset has a total of 10 features and 53941 observations. Houses with no price information have already been removed from the dataset. \n",
    "\n",
    "**Dataset Retrieval**\n",
    "\n",
    "- We read in the dataset from our GitHub repository and load the modules we will use throughout this report.\n",
    "- We display 10 randomly sampled rows from this dataset."
   ]
  },
  {
   "cell_type": "code",
   "execution_count": 6,
   "id": "b917b64a",
   "metadata": {},
   "outputs": [],
   "source": [
    "import warnings\n",
    "warnings.filterwarnings(\"ignore\")\n",
    "\n",
    "import numpy as np\n",
    "import pandas as pd\n",
    "import io\n",
    "import requests\n",
    "\n",
    "pd.set_option('display.max_columns', None) \n",
    "\n",
    "###\n",
    "import matplotlib.pyplot as plt\n",
    "import seaborn as sns\n",
    "%matplotlib inline \n",
    "%config InlineBackend.figure_format = 'retina'\n",
    "plt.style.use(\"seaborn\")\n",
    "###"
   ]
  },
  {
   "cell_type": "code",
   "execution_count": 41,
   "id": "6fc62711",
   "metadata": {},
   "outputs": [],
   "source": [
    "# name of the dataset to be imported from our GitHub account\n",
    "df_name = 'diamonds.csv'"
   ]
  },
  {
   "cell_type": "code",
   "execution_count": 42,
   "id": "26cc432b",
   "metadata": {},
   "outputs": [],
   "source": [
    "df_url = 'https://raw.githubusercontent.com/akmand/datasets/master/' + df_name\n",
    "url_content = requests.get(df_url, verify=False).content\n",
    "ds_df = pd.read_csv(io.StringIO(url_content.decode('utf-8')))"
   ]
  },
  {
   "cell_type": "code",
   "execution_count": 43,
   "id": "14f39202",
   "metadata": {},
   "outputs": [
    {
     "data": {
      "text/html": [
       "<div>\n",
       "<style scoped>\n",
       "    .dataframe tbody tr th:only-of-type {\n",
       "        vertical-align: middle;\n",
       "    }\n",
       "\n",
       "    .dataframe tbody tr th {\n",
       "        vertical-align: top;\n",
       "    }\n",
       "\n",
       "    .dataframe thead th {\n",
       "        text-align: right;\n",
       "    }\n",
       "</style>\n",
       "<table border=\"1\" class=\"dataframe\">\n",
       "  <thead>\n",
       "    <tr style=\"text-align: right;\">\n",
       "      <th></th>\n",
       "      <th>carat</th>\n",
       "      <th>cut</th>\n",
       "      <th>color</th>\n",
       "      <th>clarity</th>\n",
       "      <th>depth</th>\n",
       "      <th>table</th>\n",
       "      <th>x</th>\n",
       "      <th>y</th>\n",
       "      <th>z</th>\n",
       "      <th>price</th>\n",
       "    </tr>\n",
       "  </thead>\n",
       "  <tbody>\n",
       "    <tr>\n",
       "      <th>38848</th>\n",
       "      <td>0.40</td>\n",
       "      <td>Ideal</td>\n",
       "      <td>I</td>\n",
       "      <td>IF</td>\n",
       "      <td>62.2</td>\n",
       "      <td>56.0</td>\n",
       "      <td>4.75</td>\n",
       "      <td>4.71</td>\n",
       "      <td>2.94</td>\n",
       "      <td>1050</td>\n",
       "    </tr>\n",
       "    <tr>\n",
       "      <th>9023</th>\n",
       "      <td>1.04</td>\n",
       "      <td>Ideal</td>\n",
       "      <td>H</td>\n",
       "      <td>SI1</td>\n",
       "      <td>61.9</td>\n",
       "      <td>57.0</td>\n",
       "      <td>6.49</td>\n",
       "      <td>6.46</td>\n",
       "      <td>4.01</td>\n",
       "      <td>4515</td>\n",
       "    </tr>\n",
       "    <tr>\n",
       "      <th>51799</th>\n",
       "      <td>0.75</td>\n",
       "      <td>Premium</td>\n",
       "      <td>D</td>\n",
       "      <td>SI2</td>\n",
       "      <td>60.6</td>\n",
       "      <td>56.0</td>\n",
       "      <td>5.94</td>\n",
       "      <td>5.90</td>\n",
       "      <td>3.59</td>\n",
       "      <td>2415</td>\n",
       "    </tr>\n",
       "    <tr>\n",
       "      <th>35562</th>\n",
       "      <td>0.35</td>\n",
       "      <td>Premium</td>\n",
       "      <td>G</td>\n",
       "      <td>VS1</td>\n",
       "      <td>61.2</td>\n",
       "      <td>58.0</td>\n",
       "      <td>4.54</td>\n",
       "      <td>4.51</td>\n",
       "      <td>2.77</td>\n",
       "      <td>906</td>\n",
       "    </tr>\n",
       "    <tr>\n",
       "      <th>18923</th>\n",
       "      <td>1.49</td>\n",
       "      <td>Very Good</td>\n",
       "      <td>G</td>\n",
       "      <td>SI2</td>\n",
       "      <td>62.5</td>\n",
       "      <td>58.0</td>\n",
       "      <td>7.20</td>\n",
       "      <td>7.26</td>\n",
       "      <td>4.52</td>\n",
       "      <td>7773</td>\n",
       "    </tr>\n",
       "    <tr>\n",
       "      <th>53847</th>\n",
       "      <td>0.71</td>\n",
       "      <td>Ideal</td>\n",
       "      <td>H</td>\n",
       "      <td>VVS1</td>\n",
       "      <td>60.8</td>\n",
       "      <td>56.0</td>\n",
       "      <td>5.75</td>\n",
       "      <td>5.83</td>\n",
       "      <td>3.52</td>\n",
       "      <td>2741</td>\n",
       "    </tr>\n",
       "    <tr>\n",
       "      <th>848</th>\n",
       "      <td>0.72</td>\n",
       "      <td>Ideal</td>\n",
       "      <td>H</td>\n",
       "      <td>VVS2</td>\n",
       "      <td>60.9</td>\n",
       "      <td>57.0</td>\n",
       "      <td>5.79</td>\n",
       "      <td>5.77</td>\n",
       "      <td>3.52</td>\n",
       "      <td>2869</td>\n",
       "    </tr>\n",
       "    <tr>\n",
       "      <th>9756</th>\n",
       "      <td>0.90</td>\n",
       "      <td>Premium</td>\n",
       "      <td>G</td>\n",
       "      <td>VS1</td>\n",
       "      <td>62.7</td>\n",
       "      <td>58.0</td>\n",
       "      <td>6.06</td>\n",
       "      <td>6.15</td>\n",
       "      <td>3.83</td>\n",
       "      <td>4661</td>\n",
       "    </tr>\n",
       "    <tr>\n",
       "      <th>15655</th>\n",
       "      <td>1.04</td>\n",
       "      <td>Premium</td>\n",
       "      <td>F</td>\n",
       "      <td>VS2</td>\n",
       "      <td>59.6</td>\n",
       "      <td>62.0</td>\n",
       "      <td>6.62</td>\n",
       "      <td>6.56</td>\n",
       "      <td>3.93</td>\n",
       "      <td>6278</td>\n",
       "    </tr>\n",
       "    <tr>\n",
       "      <th>3696</th>\n",
       "      <td>0.72</td>\n",
       "      <td>Very Good</td>\n",
       "      <td>G</td>\n",
       "      <td>VVS2</td>\n",
       "      <td>60.1</td>\n",
       "      <td>60.0</td>\n",
       "      <td>5.79</td>\n",
       "      <td>5.82</td>\n",
       "      <td>3.49</td>\n",
       "      <td>3449</td>\n",
       "    </tr>\n",
       "  </tbody>\n",
       "</table>\n",
       "</div>"
      ],
      "text/plain": [
       "       carat        cut color clarity  depth  table     x     y     z  price\n",
       "38848   0.40      Ideal     I      IF   62.2   56.0  4.75  4.71  2.94   1050\n",
       "9023    1.04      Ideal     H     SI1   61.9   57.0  6.49  6.46  4.01   4515\n",
       "51799   0.75    Premium     D     SI2   60.6   56.0  5.94  5.90  3.59   2415\n",
       "35562   0.35    Premium     G     VS1   61.2   58.0  4.54  4.51  2.77    906\n",
       "18923   1.49  Very Good     G     SI2   62.5   58.0  7.20  7.26  4.52   7773\n",
       "53847   0.71      Ideal     H    VVS1   60.8   56.0  5.75  5.83  3.52   2741\n",
       "848     0.72      Ideal     H    VVS2   60.9   57.0  5.79  5.77  3.52   2869\n",
       "9756    0.90    Premium     G     VS1   62.7   58.0  6.06  6.15  3.83   4661\n",
       "15655   1.04    Premium     F     VS2   59.6   62.0  6.62  6.56  3.93   6278\n",
       "3696    0.72  Very Good     G    VVS2   60.1   60.0  5.79  5.82  3.49   3449"
      ]
     },
     "execution_count": 43,
     "metadata": {},
     "output_type": "execute_result"
    }
   ],
   "source": [
    "ds_df.sample(10, random_state = 999)\n"
   ]
  },
  {
   "cell_type": "markdown",
   "id": "9a778200",
   "metadata": {},
   "source": [
    "### Dataset Features"
   ]
  },
  {
   "cell_type": "markdown",
   "id": "ef1e5812",
   "metadata": {},
   "source": [
    "The features in our dataset are described in the table below. These descriptions are taken from the Kaggle data source."
   ]
  },
  {
   "cell_type": "markdown",
   "id": "45662f8c",
   "metadata": {},
   "source": [
    "(insert Table)"
   ]
  },
  {
   "cell_type": "markdown",
   "id": "b5c125a7",
   "metadata": {},
   "source": [
    "### Target Feature"
   ]
  },
  {
   "cell_type": "markdown",
   "id": "ae6d8344",
   "metadata": {},
   "source": [
    "For this project, the target feature in this dataset will be the Diamond Price in USD. That is, the price of Diamonds will be predicted based on the explanatory/ descriptive variables. "
   ]
  },
  {
   "cell_type": "markdown",
   "id": "c07da825",
   "metadata": {},
   "source": [
    "## Goals and Objectives"
   ]
  },
  {
   "cell_type": "markdown",
   "id": "33f06b60",
   "metadata": {},
   "source": [
    "The price of diamonds has fluctuated a great deal over the years. In the early 1900s, the price of diamonds was quite low. This was due to a number of factors, including the fact that there was a large supply of diamonds and not a lot of demand. However, over the course of the 20th century, the price of diamonds slowly but steadily increased. Currently, gemstones like diamond are always in demand because of their value in the investment market. For this reason, a model that can accurately predict a house's selling price in Melbourne would have many real-world uses. For instance, real estate agents can provide better service to their customers using this predictive model. Likewise, banks lending out money to home buyers can better estimate the financial aspects of this home loan. Perhaps more importantly as potential home buyers, we as individuals can better figure out if we are being ripped off or we are getting a good deal provided that our predictive model is a reliable one.\n",
    "\n",
    "Thus, the main objective of this project is two-fold: (1) predict the price of a house sold in Melbourne based on publicly available features of the house, and (2) which features seem to be the best predictors of the house sale price. A secondary objective is to perform some exploratory data analysis by basic descriptive statistics & data visualisation plots to gain some insight into the patterns and relationships existing in the data subsequent to some data cleaning & preprocessing, which is the subject of this Phase 1 report.\n",
    "\n",
    "At this point, we make the important assumption that rows in our dataset are not correlated. That is, we assume that house price observations are independent of one another in this dataset. Of course, this is not a very realistic assumption, however, this assumption allows us to circumvent time series aspects of the underlying dynamics of house prices and also to resort to rather classical predictive models such as multiple linear regression."
   ]
  },
  {
   "cell_type": "markdown",
   "id": "938b9255",
   "metadata": {},
   "source": [
    "## Data Cleaning and Preprocessing\n",
    "\n",
    "In this section, we describe the data cleaning and preprocessing steps undertaken for this project."
   ]
  },
  {
   "cell_type": "code",
   "execution_count": null,
   "id": "d7a2640d",
   "metadata": {},
   "outputs": [],
   "source": []
  }
 ],
 "metadata": {
  "kernelspec": {
   "display_name": "Python 3 (ipykernel)",
   "language": "python",
   "name": "python3"
  },
  "language_info": {
   "codemirror_mode": {
    "name": "ipython",
    "version": 3
   },
   "file_extension": ".py",
   "mimetype": "text/x-python",
   "name": "python",
   "nbconvert_exporter": "python",
   "pygments_lexer": "ipython3",
   "version": "3.9.12"
  }
 },
 "nbformat": 4,
 "nbformat_minor": 5
}
